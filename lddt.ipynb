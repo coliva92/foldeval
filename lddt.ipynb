{
  "nbformat": 4,
  "nbformat_minor": 0,
  "metadata": {
    "colab": {
      "provenance": []
    },
    "kernelspec": {
      "name": "python3",
      "display_name": "Python 3"
    },
    "language_info": {
      "name": "python"
    }
  },
  "cells": [
    {
      "cell_type": "code",
      "source": [
        "import numpy as np\n",
        "import matplotlib.pyplot as plt\n",
        "\n",
        "\n",
        "\n",
        "\n",
        "\n",
        "def compute_lddt(prediction_filename: str, \n",
        "                 ref_model_filename: str, \n",
        "                 output_lddt_filename: str):\n",
        "  %shell stage/bin/lddt -f -p stereo_chemical_props.txt \\\n",
        "                        $prediction_filename \\\n",
        "                        $ref_model_filename | tee $output_lddt_filename\n",
        "  global_lddt = 0\n",
        "  lddt_scores = []\n",
        "  reading_data = False\n",
        "  for line in open(output_lddt_filename, 'r'):\n",
        "    if reading_data: \n",
        "      columns = line.split()\n",
        "      if len(columns) == 0: continue\n",
        "      lddt_scores.append(float(columns[5]))\n",
        "    if line[:17] == 'Global LDDT score': global_lddt = float(line[18:25])\n",
        "    if line[:5] == 'Chain': reading_data = True\n",
        "  return global_lddt, np.array(lddt_scores)",
        "\n",
        "\n",
        "\n",
        "def display_lddt_comparison(predicted_scores,\n",
        "                            measured_scores,\n",
        "                            output_figure_filename: str,\n",
        "                            dpi: int = 140):\n",
        "  plt.figure(figsize=(8,5), dpi=dpi)\n",
        "  plt.plot(predicted_scores, color='#ccc', label='Predicted lDDT')\n",
        "  plt.plot(measured_scores, label='Measured lDDT')\n",
        "  plt.xlabel('Residues')\n",
        "  plt.ylim(0, 1)\n",
        "  plt.legend()\n",
        "  plt.savefig(output_figure_filename, bbox_inches='tight')\n",
        "  plt.show()\n"
      ],
      "metadata": {
        "id": "aEf9aMkPcUPD"
      },
      "execution_count": null,
      "outputs": []
    }
  ]
}

{
  "nbformat": 4,
  "nbformat_minor": 0,
  "metadata": {
    "colab": {
      "provenance": []
    },
    "kernelspec": {
      "name": "python3",
      "display_name": "Python 3"
    },
    "language_info": {
      "name": "python"
    }
  },
  "cells": [
    {
      "cell_type": "code",
      "source": [
        "import numpy as np\n",
        "\n",
        "\n",
        "\n",
        "\n",
        "\n",
        "def compute_lddt(prediction_filename: str, \n",
        "                 ref_model_filename: str, \n",
        "                 output_lddt_filename: str):\n",
        "  %shell stage/bin/lddt -f -p stereo_chemical_props.txt \\\n",
        "                        $prediction_filename \\\n",
        "                        $ref_model_filename | tee $output_lddt_filename\n",
        "  global_lddt = 0\n",
        "  lddt_scores = []\n",
        "  reading_data = False\n",
        "  for line in open(output_lddt_filename, 'r'):\n",
        "    if reading_data: \n",
        "      columns = line.split()\n",
        "      if len(columns) == 0: continue\n",
        "      lddt_scores.append(float(columns[5]))\n",
        "    if line[:17] == 'Global LDDT score': global_lddt = float(line[18:25])\n",
        "    if line[:5] == 'Chain': reading_data = True\n",
        "  return global_lddt, np.array(lddt_scores)"
      ],
      "metadata": {
        "id": "aEf9aMkPcUPD"
      },
      "execution_count": null,
      "outputs": []
    }
  ]
}
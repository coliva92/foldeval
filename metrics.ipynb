{
  "nbformat": 4,
  "nbformat_minor": 0,
  "metadata": {
    "colab": {
      "provenance": []
    },
    "kernelspec": {
      "name": "python3",
      "display_name": "Python 3"
    },
    "language_info": {
      "name": "python"
    }
  },
  "cells": [
    {
      "cell_type": "code",
      "source": [
        "import numpy as np\n",
        "import matplotlib.pyplot as plt\n",
        "\n",
        "\n",
        "\n",
        "\n",
        "\n",
        "def compute_lddt(prediction_filename: str, \n",
        "                 ref_model_filename: str, \n",
        "                 output_lddt_filename: str):\n",
        "  %shell stage/bin/lddt -f -p stereo_chemical_props.txt \\\n",
        "                        $prediction_filename \\\n",
        "                        $ref_model_filename | tee $output_lddt_filename\n",
        "  global_lddt = 0\n",
        "  lddt_scores = []\n",
        "  reading_data = False\n",
        "  for line in open(output_lddt_filename, 'r'):\n",
        "    if reading_data: \n",
        "      columns = line.split()\n",
        "      if len(columns) == 0: continue\n",
        "      lddt_scores.append(float(columns[5]))\n",
        "    if line[:17] == 'Global LDDT score': global_lddt = float(line[18:25])\n",
        "    if line[:5] == 'Chain': reading_data = True\n",
        "  return global_lddt, np.array(lddt_scores)\n",
        "\n",
        "\n",
        "\n",
        "def display_lddt_comparison(predicted_scores,\n",
        "                            measured_scores,\n",
        "                            output_figure_filename: str,\n",
        "                            dpi: int = 140):\n",
        "  plt.figure(figsize=(8,5), dpi=dpi)\n",
        "  plt.plot(predicted_scores, color='#ccc', label='Predicted lDDT')\n",
        "  plt.plot(measured_scores, label='Measured lDDT')\n",
        "  plt.xlabel('Residues')\n",
        "  plt.ylim(0, 1)\n",
        "  plt.legend()\n",
        "  plt.savefig(output_figure_filename, bbox_inches='tight')\n",
        "  plt.show()\n",
        "\n",
        "\n",
        "\n",
        "def compute_metrics(plddtScores, outputFilename: str = 'metrics.txt'):\n",
        "  global jobname\n",
        "  global sequences\n",
        "  global algorithm\n",
        "  global dpi\n",
        "  sequence_length = len(sequences[0])\n",
        "  with open(f'{jobname}/{outputFilename}', 'wt') as file:\n",
        "    file.write(f'JOBNAME={jobname}\\n')\n",
        "    file.write(f'SEQUENCE_LENGTH={sequence_length}\\n')\n",
        "    file.write(f'ALGORITHM={algorithm}\\n')\n",
        "  %shell /content/pymol-open-source-build/bin/pymol -qc $prediction_filename \\\n",
        "    $ref_model_filename -r /concent/foldeval/pymol_gdt.py \n",
        "  global_lddt, lddt_scores = compute_lddt(prediction_filename, ref_model_filename, \n",
        "                                          f'{jobname}/lDDT.txt')\n",
        "  display_lddt_comparison(plddtScores, lddt_scores, \n",
        "                          f'{jobname}/lddt_comparison.png', dpi)\n",
        "  with open(f'{jobname}/{outputFilename}', 'wt') as file:\n",
        "    file.write(f'LDDT={global_lddt:.4}\\n')\n",
        "    file.write('LDDT_ATOMS=all\\n')\n",
        "    file.write('LDDT_CUTOFFS=[ 0.5, 1, 2, 4 ]\\n')\n",
        "    file.write('LDDT_BOND_ANGLE_TOLERANCE=12\\n')\n",
        "    file.write('LDDT_BOND_LENGTH_TOLERANCE=12\\n')\n",
        "  "
      ],
      "metadata": {
        "id": "aEf9aMkPcUPD"
      },
      "execution_count": null,
      "outputs": []
    }
  ]
}
{
  "cells": [
    {
      "cell_type": "code",
      "execution_count": null,
      "metadata": {
        "id": "aEf9aMkPcUPD"
      },
      "outputs": [],
      "source": [
        "import numpy as np\n",
        "import matplotlib.pyplot as plt\n",
        "\n",
        "\n",
        "\n",
        "\n",
        "\n",
        "def compute_lddt(predictionFilename: str, \n",
        "                 referenceFilename: str, \n",
        "                 outputFilename: str):\n",
        "  %shell stage/bin/lddt -f -p /content/foldeval/openstructure/stereo_chemical_props.txt \\\n",
        "                        $predictionFilename \\\n",
        "                        $referenceFilename | tee $outputFilename\n",
        "  global_lddt = 0\n",
        "  lddt_scores = []\n",
        "  reading_data = False\n",
        "  for line in open(outputFilename, 'r'):\n",
        "    if reading_data: \n",
        "      columns = line.split()\n",
        "      if len(columns) == 0: continue\n",
        "      lddt_scores.append(float(columns[5]))\n",
        "    if line[:17] == 'Global LDDT score': global_lddt = float(line[18:25])\n",
        "    if line[:5] == 'Chain': reading_data = True\n",
        "  return global_lddt, np.array(lddt_scores)\n",
        "\n",
        "\n",
        "\n",
        "def display_lddt_comparison(predictedScores,\n",
        "                            measuredScores,\n",
        "                            outputFilename: str,\n",
        "                            dpi: int = 140):\n",
        "  plt.figure(figsize=(8,5), dpi=dpi)\n",
        "  plt.plot(predictedScores, color='#ccc', label='Predicted lDDT')\n",
        "  plt.plot(measuredScores, label='Measured lDDT')\n",
        "  plt.xlabel('Residues')\n",
        "  plt.ylim(0, 1)\n",
        "  plt.legend()\n",
        "  plt.savefig(outputFilename, bbox_inches='tight')\n",
        "  plt.show()\n",
        "\n",
        "\n",
        "\n",
        "def compute_metrics(plddtScores, \n",
        "                    predictionFilename: str, \n",
        "                    referenceFilename: str, \n",
        "                    outputFilename: str = 'metrics.txt'):\n",
        "  global jobname\n",
        "  global sequences\n",
        "  global algorithm\n",
        "  global dpi\n",
        "  sequence_length = len(sequences[0])\n",
        "  with open(f'{jobname}/{outputFilename}', 'wt') as file:\n",
        "    file.write(f'JOBNAME={jobname}\\n')\n",
        "    file.write(f'SEQUENCE_LENGTH={sequence_length}\\n')\n",
        "    file.write(f'ALGORITHM={algorithm}\\n')\n",
        "  # %shell /content/pymol-open-source-build/bin/pymol -qc $predictionFilename \\\n",
        "  %shell pymol -qc $predictionFilename \\\n",
        "    $referenceFilename -r /concent/foldeval/pymol_gdt.py \n",
        "  global_lddt, lddt_scores = compute_lddt(predictionFilename, referenceFilename, \n",
        "                                          f'{jobname}/lDDT.txt')\n",
        "  display_lddt_comparison(plddtScores, lddt_scores, \n",
        "                          f'{jobname}/lddt_comparison.png', dpi)\n",
        "  with open(f'{jobname}/{outputFilename}', 'wt') as file:\n",
        "    file.write(f'LDDT={global_lddt:.4}\\n')\n",
        "    file.write('LDDT_ATOMS=all\\n')\n",
        "    file.write('LDDT_CUTOFFS=[ 0.5, 1, 2, 4 ]\\n')\n",
        "    file.write('LDDT_BOND_ANGLE_TOLERANCE=12\\n')\n",
        "    file.write('LDDT_BOND_LENGTH_TOLERANCE=12\\n')\n",
        "  "
      ]
    }
  ],
  "metadata": {
    "colab": {
      "provenance": []
    },
    "kernelspec": {
      "display_name": "Python 3",
      "name": "python3"
    },
    "language_info": {
      "name": "python"
    }
  },
  "nbformat": 4,
  "nbformat_minor": 0
}
